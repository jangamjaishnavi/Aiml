{
  "metadata": {
    "kernelspec": {
      "name": "python",
      "display_name": "Python (Pyodide)",
      "language": "python"
    },
    "language_info": {
      "codemirror_mode": {
        "name": "python",
        "version": 3
      },
      "file_extension": ".py",
      "mimetype": "text/x-python",
      "name": "python",
      "nbconvert_exporter": "python",
      "pygments_lexer": "ipython3",
      "version": "3.8"
    }
  },
  "nbformat_minor": 5,
  "nbformat": 4,
  "cells": [
    {
      "id": "70bb8bb9-c4e1-4632-92f8-44aeb244a8e7",
      "cell_type": "code",
      "source": "import pandas as pd",
      "metadata": {
        "trusted": true
      },
      "outputs": [],
      "execution_count": 1
    },
    {
      "id": "d8540071-fea1-4a70-9fd2-7cf9551fd413",
      "cell_type": "code",
      "source": "s1 = [20,15,10,23,91,98,60,45,36,90]\nscores1=pd.Series(s1)\nscores1",
      "metadata": {
        "trusted": true
      },
      "outputs": [
        {
          "execution_count": 4,
          "output_type": "execute_result",
          "data": {
            "text/plain": "0    20\n1    15\n2    10\n3    23\n4    91\n5    98\n6    60\n7    45\n8    36\n9    90\ndtype: int64"
          },
          "metadata": {}
        }
      ],
      "execution_count": 4
    },
    {
      "id": "dcfa6f43-17ea-47e7-a9f5-28af03be07fd",
      "cell_type": "code",
      "source": "import matplotlib.pyplot as plt\n",
      "metadata": {
        "trusted": true
      },
      "outputs": [],
      "execution_count": 8
    },
    {
      "id": "5d946595-f44c-4ae9-9c3c-79d1a02756a8",
      "cell_type": "code",
      "source": "plt.boxplot(s1,vert=False)",
      "metadata": {
        "trusted": true,
        "scrolled": true
      },
      "outputs": [
        {
          "execution_count": 10,
          "output_type": "execute_result",
          "data": {
            "text/plain": "{'whiskers': [<matplotlib.lines.Line2D at 0x694a3d0>,\n  <matplotlib.lines.Line2D at 0x6480de0>],\n 'caps': [<matplotlib.lines.Line2D at 0x61d6710>,\n  <matplotlib.lines.Line2D at 0x62fd808>],\n 'boxes': [<matplotlib.lines.Line2D at 0x5f63420>],\n 'medians': [<matplotlib.lines.Line2D at 0x68fe990>],\n 'fliers': [<matplotlib.lines.Line2D at 0x6965b50>],\n 'means': []}"
          },
          "metadata": {}
        },
        {
          "output_type": "display_data",
          "data": {
            "text/plain": "<Figure size 640x480 with 1 Axes>",
            "image/png": "[encoded data removed]"
          },
          "metadata": {}
        }
      ],
      "execution_count": 10
    },
    {
      "id": "2c8a2fdb-d1bb-4841-95e2-d89db151124e",
      "cell_type": "code",
      "source": "s2 = [2,3,4,5,6,10,15,40,60]\nscores2=pd.Series(s2)\nscores2",
      "metadata": {
        "trusted": true
      },
      "outputs": [
        {
          "execution_count": 13,
          "output_type": "execute_result",
          "data": {
            "text/plain": "0     2\n1     3\n2     4\n3     5\n4     6\n5    10\n6    15\n7    40\n8    60\ndtype: int64"
          },
          "metadata": {}
        }
      ],
      "execution_count": 13
    },
    {
      "id": "17b40c1a-6879-4baf-b482-83f4cb5d4d75",
      "cell_type": "code",
      "source": "plt.boxplot(s2,vert=False)",
      "metadata": {
        "trusted": true
      },
      "outputs": [
        {
          "execution_count": 14,
          "output_type": "execute_result",
          "data": {
            "text/plain": "{'whiskers': [<matplotlib.lines.Line2D at 0x6565d58>,\n  <matplotlib.lines.Line2D at 0x6567d00>],\n 'caps': [<matplotlib.lines.Line2D at 0x6943338>,\n  <matplotlib.lines.Line2D at 0x6945360>],\n 'boxes': [<matplotlib.lines.Line2D at 0x629a560>],\n 'medians': [<matplotlib.lines.Line2D at 0x65682c0>],\n 'fliers': [<matplotlib.lines.Line2D at 0x6655418>],\n 'means': []}"
          },
          "metadata": {}
        },
        {
          "output_type": "display_data",
          "data": {
            "text/plain": "<Figure size 640x480 with 1 Axes>",
            "image/png": "[encoded data removed]"
          },
          "metadata": {}
        }
      ],
      "execution_count": 14
    },
    {
      "id": "cff0e18f-4087-443f-a27b-0447824e8666",
      "cell_type": "code",
      "source": "df = pd.read_csv(\"Universities.csv\")\nprint(df)\nplt.boxplot(df[\"SAT\"])",
      "metadata": {
        "trusted": true
      },
      "outputs": [],
      "execution_count": null
    }
  ]
}