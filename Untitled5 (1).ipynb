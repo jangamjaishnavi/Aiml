{
 "cells": [
  {
   "cell_type": "code",
   "execution_count": 8,
   "id": "b5674b34-f875-4864-aa9a-d6d2c8fd149a",
   "metadata": {},
   "outputs": [],
   "source": [
    "even = lambda L : [x for x in L if x%2 ==0]\n"
   ]
  },
  {
   "cell_type": "code",
   "execution_count": 9,
   "id": "ef83e14d-f6b6-48a9-9e83-f3384e399fa1",
   "metadata": {},
   "outputs": [
    {
     "data": {
      "text/plain": [
       "[22, 4, 56]"
      ]
     },
     "execution_count": 9,
     "metadata": {},
     "output_type": "execute_result"
    }
   ],
   "source": [
    "my_list = [1,22,3,4,56,7]\n",
    "even(my_list)"
   ]
  },
  {
   "cell_type": "code",
   "execution_count": 11,
   "id": "c82fa96e-25c9-4e4c-b3f2-4a8ad2159636",
   "metadata": {},
   "outputs": [],
   "source": [
    "def mean_value(*n):\n",
    "    sum=0\n",
    "    counter=0\n",
    "    for x in n:\n",
    "        counter=counter+1 \n",
    "        sum += x\n",
    "    mean = sum /counter\n",
    "    return mean\n"
   ]
  },
  {
   "cell_type": "code",
   "execution_count": 16,
   "id": "f281292e-f604-4017-bc7d-c1f3afa598c9",
   "metadata": {},
   "outputs": [
    {
     "data": {
      "text/plain": [
       "5.2"
      ]
     },
     "execution_count": 16,
     "metadata": {},
     "output_type": "execute_result"
    }
   ],
   "source": [
    "mean_value(4,5,6,7,4)"
   ]
  },
  {
   "cell_type": "code",
   "execution_count": 12,
   "id": "fcf28724-cf40-4355-80ca-d640e197f6da",
   "metadata": {},
   "outputs": [],
   "source": [
    "def product(*n):\n",
    "    result = 1\n",
    "    for i in range (len(n)):\n",
    "        result *= n[i]\n",
    "    return result\n",
    "        \n",
    "    "
   ]
  },
  {
   "cell_type": "code",
   "execution_count": 15,
   "id": "16d42942-8b73-43ba-8a99-51c72dae8cc1",
   "metadata": {},
   "outputs": [
    {
     "data": {
      "text/plain": [
       "324"
      ]
     },
     "execution_count": 15,
     "metadata": {},
     "output_type": "execute_result"
    }
   ],
   "source": [
    "product(1,2,3,6,9)"
   ]
  },
  {
   "cell_type": "code",
   "execution_count": 17,
   "id": "99c10025-4e00-41f2-82b2-3b65363577c4",
   "metadata": {},
   "outputs": [],
   "source": [
    "import Untitled7"
   ]
  },
  {
   "cell_type": "code",
   "execution_count": 22,
   "id": "72a10675-4b66-4bd2-9125-64ddc3512518",
   "metadata": {},
   "outputs": [
    {
     "data": {
      "text/plain": [
       "3.5"
      ]
     },
     "execution_count": 22,
     "metadata": {},
     "output_type": "execute_result"
    }
   ],
   "source": [
    "Untitled7.mean_value(2,3,4,5)"
   ]
  },
  {
   "cell_type": "code",
   "execution_count": null,
   "id": "f39c0498-fef2-408f-9b19-fbbc39680ac3",
   "metadata": {},
   "outputs": [],
   "source": []
  }
 ],
 "metadata": {
  "kernelspec": {
   "display_name": "Python 3 (ipykernel)",
   "language": "python",
   "name": "python3"
  },
  "language_info": {
   "codemirror_mode": {
    "name": "ipython",
    "version": 3
   },
   "file_extension": ".py",
   "mimetype": "text/x-python",
   "name": "python",
   "nbconvert_exporter": "python",
   "pygments_lexer": "ipython3",
   "version": "3.12.7"
  }
 },
 "nbformat": 4,
 "nbformat_minor": 5
}
