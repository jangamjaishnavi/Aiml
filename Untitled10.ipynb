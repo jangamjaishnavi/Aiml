{
 "cells": [
  {
   "cell_type": "markdown",
   "id": "e1de78f1-e9cf-4481-8e3e-52ac55b8daa1",
   "metadata": {},
   "source": [
    "1.Read a long text in to string that contains some punctuation marks alos\n",
    "2.covert to lower case\n",
    "3.Remove punctation marks\n",
    "4.Split in to words using split() function \n",
    "5.Make a dictinory with each unique word as the key and its being the number of ocurrances\n",
    "6.Covert the dict to dataframe and print it"
   ]
  },
  {
   "cell_type": "code",
   "execution_count": 7,
   "id": "14cf08f0-6ea9-4a22-a13c-15789223761c",
   "metadata": {},
   "outputs": [
    {
     "name": "stdout",
     "output_type": "stream",
     "text": [
      "According to senior journalist Rajdeep Sardesai in his new book ‘2024: The Election That Surprised India’, before the 2021 assembly polls in West Bengal, the BJP was desperate for a local face who could carry the party’s campaign in the state along with, of course, Prime Minister Narendra Modi. That face was star cricketer Sourav Ganguly. Here’s an excerpt from the book that details how hard BJP tried to rope in Ganguly and why it failed\n",
      "For Amit Shah, the news that Prashant Kishor was handling Mamata Banerjees campaign was a red rag. Shah and Kishor had fallen out in the aftermath of the BJPs 2014 victory. After all, there was space for only one self-styled election Chanakya in the Prime Ministers core group. The home minister knew he had a challenge on hand but remained optimistic about scripting history in Bengal.\n",
      "His major task was to find a homegrown face to take on the Bengal chief ministers mass appeal. The name at the top of his list of potential contenders was that of former India cricket captain and contemporary Bengali folk hero Sourav Ganguly, or Dada, as he is affectionately called.\n"
     ]
    }
   ],
   "source": [
    "import pandas as pd\n",
    "import string\n",
    "text=\"\"\"According to senior journalist Rajdeep Sardesai in his new book ‘2024: The Election That Surprised India’, before the 2021 assembly polls in West Bengal, the BJP was desperate for a local face who could carry the party’s campaign in the state along with, of course, Prime Minister Narendra Modi. That face was star cricketer Sourav Ganguly. Here’s an excerpt from the book that details how hard BJP tried to rope in Ganguly and why it failed\n",
    "For Amit Shah, the news that Prashant Kishor was handling Mamata Banerjees campaign was a red rag. Shah and Kishor had fallen out in the aftermath of the BJPs 2014 victory. After all, there was space for only one self-styled election Chanakya in the Prime Ministers core group. The home minister knew he had a challenge on hand but remained optimistic about scripting history in Bengal.\n",
    "His major task was to find a homegrown face to take on the Bengal chief ministers mass appeal. The name at the top of his list of potential contenders was that of former India cricket captain and contemporary Bengali folk hero Sourav Ganguly, or Dada, as he is affectionately called.\"\"\"\n",
    "print(text)"
   ]
  },
  {
   "cell_type": "markdown",
   "id": "8b51f033-4f07-45ac-b7fa-63aca76e14d5",
   "metadata": {},
   "source": []
  },
  {
   "cell_type": "code",
   "execution_count": 9,
   "id": "866ff4db-d685-438a-8af8-bef1b7adcae0",
   "metadata": {},
   "outputs": [
    {
     "data": {
      "text/plain": [
       "'According to senior journalist Rajdeep Sardesai in his new book ‘2024 The Election That Surprised India’ before the 2021 assembly polls in West Bengal the BJP was desperate for a local face who could carry the party’s campaign in the state along with of course Prime Minister Narendra Modi That face was star cricketer Sourav Ganguly Here’s an excerpt from the book that details how hard BJP tried to rope in Ganguly and why it failed\\nFor Amit Shah the news that Prashant Kishor was handling Mamata Banerjees campaign was a red rag Shah and Kishor had fallen out in the aftermath of the BJPs 2014 victory After all there was space for only one selfstyled election Chanakya in the Prime Ministers core group The home minister knew he had a challenge on hand but remained optimistic about scripting history in Bengal\\nHis major task was to find a homegrown face to take on the Bengal chief ministers mass appeal The name at the top of his list of potential contenders was that of former India cricket captain and contemporary Bengali folk hero Sourav Ganguly or Dada as he is affectionately called'"
      ]
     },
     "execution_count": 9,
     "metadata": {},
     "output_type": "execute_result"
    }
   ],
   "source": [
    "text = text.translate(str.maketrans(\"\",\"\",string.punctuation))\n",
    "text"
   ]
  },
  {
   "cell_type": "code",
   "execution_count": 10,
   "id": "9e0e8e7c-54ba-4ea6-95ce-ca41324930a2",
   "metadata": {},
   "outputs": [
    {
     "data": {
      "text/plain": [
       "'according to senior journalist rajdeep sardesai in his new book ‘2024 the election that surprised india’ before the 2021 assembly polls in west bengal the bjp was desperate for a local face who could carry the party’s campaign in the state along with of course prime minister narendra modi that face was star cricketer sourav ganguly here’s an excerpt from the book that details how hard bjp tried to rope in ganguly and why it failed\\nfor amit shah the news that prashant kishor was handling mamata banerjees campaign was a red rag shah and kishor had fallen out in the aftermath of the bjps 2014 victory after all there was space for only one selfstyled election chanakya in the prime ministers core group the home minister knew he had a challenge on hand but remained optimistic about scripting history in bengal\\nhis major task was to find a homegrown face to take on the bengal chief ministers mass appeal the name at the top of his list of potential contenders was that of former india cricket captain and contemporary bengali folk hero sourav ganguly or dada as he is affectionately called'"
      ]
     },
     "execution_count": 10,
     "metadata": {},
     "output_type": "execute_result"
    }
   ],
   "source": [
    "text = text.lower()\n",
    "text"
   ]
  },
  {
   "cell_type": "code",
   "execution_count": null,
   "id": "32c21350-47b2-4de1-b9b1-39c9002d7d45",
   "metadata": {},
   "outputs": [],
   "source": []
  }
 ],
 "metadata": {
  "kernelspec": {
   "display_name": "Python 3 (ipykernel)",
   "language": "python",
   "name": "python3"
  },
  "language_info": {
   "codemirror_mode": {
    "name": "ipython",
    "version": 3
   },
   "file_extension": ".py",
   "mimetype": "text/x-python",
   "name": "python",
   "nbconvert_exporter": "python",
   "pygments_lexer": "ipython3",
   "version": "3.12.7"
  }
 },
 "nbformat": 4,
 "nbformat_minor": 5
}
